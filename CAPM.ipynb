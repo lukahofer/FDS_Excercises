{
 "cells": [
  {
   "cell_type": "markdown",
   "metadata": {},
   "source": [
    "# Simplified Task for the CAPM Exercise\n",
    "\n",
    "Write a class called \"CAPM\". The members of the class are: alpha, beta, t-stat of alpha, t-stat of beta, adjusted R^2. The member function \"fit_SML(.)\" uses an OLS regression package of the statsmodels to fit the CAPM SML and to pin down alpha, beta, t-stat of alpha, t-stat of beta, adjusted R^2.\n",
    "$$\n",
    "\\\\\n",
    "$$\n",
    "\n",
    "Also, store the regression package's summary table as a private member of the CAPM class. Let member function \"display_Regression_Table(.)\" print out the regression summary table.\n",
    "\n",
    "$$\n",
    "\\\\\n",
    "$$\n",
    "\n",
    "The file \"apple_mthly.csv\" (\"sp500_mthly.csv\") contains monthly EXCESS return data for Apple (S&P 500). Note, the excess returns do already record the return in excess of the risk-free rate. Use the monthly excess return data for the S&P500 as the excess return on the market portfolio (in the CAPM sense). Please use your CAPM class to answer the following questions:\n",
    "\n",
    "A) How much of Apple's monthly return variance is diversifiable?\n",
    "\n",
    "B) How much of Apple's monthly return variance is systematatic?\n",
    "\n",
    "C) Did Apple earn a significant abnormal monthly return (i.e. alpha)? Hint: check the t-stat. A t-stat of larger than 2 is natural cut-off point in industry.\n",
    "\n",
    "D) How large has been the annualized Sharpe Ratio? Hint: Compute the mean monthly return of Apple and annualize it by multiplying it with 12. Compute the monthly return volatility of Apple and annualize  that by multiplying it with the square root of 12. Now, compute the Sharpe Ratio using these annualized numbers. "
   ]
  },
  {
   "cell_type": "code",
   "execution_count": 2,
   "metadata": {},
   "outputs": [
    {
     "name": "stdout",
     "output_type": "stream",
     "text": [
      "0.009285864306885636\n"
     ]
    }
   ],
   "source": [
    "import statsmodels.api as sm\n",
    "import pandas as pd\n",
    "import numpy as np\n",
    "import matplotlib.pyplot as plt\n",
    "\n",
    "\n",
    "apple_csv = pd.read_csv('apple_mthly.csv')\n",
    "sp500_csv = pd.read_csv('sp500_mthly.csv')\n",
    "\n",
    "apple = np.array(apple_csv['apple_ex_return'])\n",
    "sp500 = np.array(sp500_csv['sp500_ex_return'])\n",
    "\n",
    "print(np.var(apple))\n"
   ]
  },
  {
   "cell_type": "code",
   "execution_count": 7,
   "metadata": {},
   "outputs": [],
   "source": [
    "class CAPM:\n",
    "    \n",
    "    alpha, beta, t_stat_alpha, t_stat_beta, adj_R2 = 0, 0, 0, 0, 0\n",
    "    __summary_table = ''\n",
    "    \n",
    "    def __init__(self, x, y):\n",
    "        self.fit_SML(x, y)\n",
    "         \n",
    "    def fit_SML(self, x, y):\n",
    "        SML = sm.OLS(y, sm.add_constant(x)).fit()\n",
    "        self.__summary_table = SML.summary()\n",
    "        self.alpha = SML.params[0]\n",
    "        self.beta = SML.params[1]\n",
    "        self.t_stat_alpha = SML.tvalues[0]\n",
    "        self.t_stat_beta = SML.tvalues[1]\n",
    "        self.adj_R2 = SML.rsquared_adj\n",
    "        \n",
    "    \n",
    "    def display_Regression_Table(self): \n",
    "        print(self.__summary_table)\n",
    "   \n",
    "\n",
    "    def systematic_risk_percentage(self):\n",
    "        return self.adj_R2\n",
    "        \n",
    "        \n",
    "    def average_monthly_return(asset):\n",
    "        number_of_rows = len(asset)\n",
    "        return np.sum(asset) / number_of_rows\n",
    "    \n",
    "    def annu_sharpe_ratio(asset):\n",
    "        mthly_return = CAPM.average_monthly_return(asset)\n",
    "        mthly_std = np.std(asset)\n",
    "        return (mthly_return * 12) / (mthly_std * (12**0.5))\n",
    "        "
   ]
  },
  {
   "cell_type": "code",
   "execution_count": 8,
   "metadata": {},
   "outputs": [
    {
     "name": "stdout",
     "output_type": "stream",
     "text": [
      "                            OLS Regression Results                            \n",
      "==============================================================================\n",
      "Dep. Variable:                      y   R-squared:                       0.296\n",
      "Model:                            OLS   Adj. R-squared:                  0.292\n",
      "Method:                 Least Squares   F-statistic:                     84.48\n",
      "Date:                Wed, 06 Oct 2021   Prob (F-statistic):           4.95e-17\n",
      "Time:                        17:13:41   Log-Likelihood:                 222.51\n",
      "No. Observations:                 203   AIC:                            -441.0\n",
      "Df Residuals:                     201   BIC:                            -434.4\n",
      "Df Model:                           1                                         \n",
      "Covariance Type:            nonrobust                                         \n",
      "==============================================================================\n",
      "                 coef    std err          t      P>|t|      [0.025      0.975]\n",
      "------------------------------------------------------------------------------\n",
      "const          0.0223      0.006      3.884      0.000       0.011       0.034\n",
      "x1             1.2431      0.135      9.191      0.000       0.976       1.510\n",
      "==============================================================================\n",
      "Omnibus:                       20.959   Durbin-Watson:                   1.927\n",
      "Prob(Omnibus):                  0.000   Jarque-Bera (JB):               43.628\n",
      "Skew:                          -0.484   Prob(JB):                     3.36e-10\n",
      "Kurtosis:                       5.054   Cond. No.                         23.7\n",
      "==============================================================================\n",
      "\n",
      "Notes:\n",
      "[1] Standard Errors assume that the covariance matrix of the errors is correctly specified.\n",
      "Diversifiable Risk percentage Apple: 0.7075725985628772\n",
      "Systematic Risk percentage Apple: 0.29242740143712276\n",
      "Annulized Sharp Ration Apple: 1.01321655470703\n",
      "Average monthly return Apple: 0.028185310305176563\n"
     ]
    }
   ],
   "source": [
    "capm = CAPM(sp500, apple)\n",
    "capm.display_Regression_Table()\n",
    "\n",
    "print(\"Diversifiable Risk percentage Apple:\", 1 - capm.systematic_risk_percentage())\n",
    "print(\"Systematic Risk percentage Apple:\",capm.systematic_risk_percentage())\n",
    "print(\"Annulized Sharp Ration Apple:\",CAPM.annu_sharpe_ratio(apple))\n",
    "print(\"Average monthly return Apple:\",CAPM.average_monthly_return(apple))\n",
    "\n"
   ]
  },
  {
   "cell_type": "code",
   "execution_count": null,
   "metadata": {},
   "outputs": [],
   "source": []
  }
 ],
 "metadata": {
  "kernelspec": {
   "display_name": "Python 3",
   "language": "python",
   "name": "python3"
  },
  "language_info": {
   "codemirror_mode": {
    "name": "ipython",
    "version": 3
   },
   "file_extension": ".py",
   "mimetype": "text/x-python",
   "name": "python",
   "nbconvert_exporter": "python",
   "pygments_lexer": "ipython3",
   "version": "3.8.5"
  }
 },
 "nbformat": 4,
 "nbformat_minor": 4
}
