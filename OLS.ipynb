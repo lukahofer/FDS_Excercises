{
 "cells": [
  {
   "cell_type": "markdown",
   "metadata": {},
   "source": [
    "Dear student,\n",
    "\n",
    "I am asking you to do the following in this problem set. \n",
    "\n",
    "## Task 1: OLS in an Object-oriented Way\n",
    "\n",
    "First, take the OLS code from the class material jupyter notebook and create a nice looking object oriented version for OLS estimation. The class is called \"OLS\". The constructor reads in the $y$ and $X$ variables. Ensure to add a constant to $X$. Add a function called \"runOLS(...)\" to that class. This function does the following: (i) compute regression beta and residual, (ii) volatility of the residual, (iii) standard errors and t-stat of beta estimates, (iv) adjusted $R^2$. Add a another function called \"summaryStats()\". This function executes the function \"runOLS()\" and displays the regression output for beta, t-stat, adjR2 and plots the time-series of the residual.\n",
    "\n",
    "Hint: all of the necessary code is in the class notebook.\n",
    "\n",
    "**Important:** use that OLS class for the upcoming tasks.\n",
    "\n",
    "## Task 2: Cross-Sectional Equity Predictability\n",
    "\n",
    "Second, you are going to work with the monthly equity return file \"ES50_mthlyReturns_April2021.csv\" which I have created in the aftermath of Topic_#1_GettingStarted. This data contains monthly log returns of European BlueChips. I want you to solve the following data challenges: \n",
    "\n",
    "### 2.1 Return Decomposition, $r = \\mu + \\epsilon$\n",
    "\n",
    "Fit an AR(1) to the return on AI.PA and plot in one graph the time-series of $\\mu$ and $\\epsilon$. Interpret the graph, using the concept of $R^2$, the t-stat for the AR(1) coefficient, the variance of $y$ and the variance of $\\epsilon$ and the variance of $\\mu$. \n",
    "\n",
    "\n",
    "\n",
    "### 2.2. Cross-Sectional adj-$R^2$\n",
    "\n",
    "Tell me which of the European BlueChip stock return in \"ES50_mthlyReturns_April2021.csv\" shows evidence of at least weak predictability. Hint: I consider something weakly predictive, if the absolute value of the t-stat of the AR(1) loading is above 2. Also, how large is the adjusted $R^2$ for that stock?\n",
    "\n",
    "\n",
    "\n",
    "\n",
    "## Task 3: Market Return\n",
    "\n",
    "You know by now that firm risk consists of systematic and idiosyncratic risk. You also know that the equal-weight portfolio is pretty well diversified. Hence, treat the equal-weight portfolio of the assets in \"ES50_mthlyReturns_April2021.csv\" as the market portfolio. Again, that is the return you earn for holding systematic Euro-area Equity Risk (systematic risk only). \n",
    "\n",
    "\n",
    "Analyze whether the market is predictable at the monthly frequency. Work with in-sample data only. Report t-stat, beta, adj-$R^2$. Decompose the market return into predictable ($\\mu$) and unpredictable part($\\epsilon$) and plot both into one graph.\n"
   ]
  },
  {
   "cell_type": "code",
   "execution_count": 1,
   "metadata": {},
   "outputs": [],
   "source": [
    "# econometric work\n",
    "import numpy as np\n",
    "import pandas as pd\n",
    "import datetime as dt\n",
    "import statsmodels.tools.tools as smd\n",
    " \n",
    "\n",
    "# plotting  \n",
    "import matplotlib\n",
    "import matplotlib.pyplot as plt\n",
    "matplotlib.style.use('ggplot')"
   ]
  },
  {
   "cell_type": "code",
   "execution_count": 2,
   "metadata": {
    "scrolled": true
   },
   "outputs": [],
   "source": [
    "#task 1\n",
    "class OLS:\n",
    "    \n",
    "    def __init__(self, y, X):\n",
    "        self.y = y\n",
    "        ones = np.ones(len(y))\n",
    "        X_df = pd.DataFrame(ones)\n",
    "        X_df['x_values'] = X\n",
    "        self.X = np.matrix(X_df)\n",
    "    \n",
    "    def runOLS(self):\n",
    "        X = self.X\n",
    "        y = self.y\n",
    "        T = X.shape[0]\n",
    "        p = X.shape[1] - 1\n",
    "        \n",
    "        beta = (X.getT() * X).getI() * (X.getT() * y)  #(p,1)\n",
    "        e = y - X * beta  # (T,1)\n",
    "        \n",
    "        var_e = ((1 / (T-p-1)) * (e.getT() * e)).item()  #scalar\n",
    "        var_beta = var_e * ((X.getT() * X).getI())  #(p,p)\n",
    "        beta_std_err = (np.sqrt(var_beta.diagonal())).reshape(p+1,1)  #(p,1)\n",
    "        \n",
    "        t_stat = (beta / beta_std_err)\n",
    "        \n",
    "        y_dm = y - y.mean()\n",
    "        y2_dm = y_dm.T * y_dm\n",
    "        var_y = (y2_dm  / (T-1)).item()\n",
    "        adj_R2 = 1 - (var_e / var_y)\n",
    "        \n",
    "        self.beta = beta\n",
    "        self.e = e\n",
    "        self.var_e = var_e\n",
    "        self.beta_std_err = beta_std_err\n",
    "        self.t_stat = t_stat\n",
    "        self.adj_R2 = adj_R2\n",
    "        #return beta, e, var_e, beta_std_err, t_stat, adj_R2\n",
    "    \n",
    "    def summaryStats(self):\n",
    "        result = self.runOLS()\n",
    "        print(\"Estimation for beta: \" + str(self.beta))\n",
    "        print(\"Estimation for t-statistic: \" + str(self.t_stat))\n",
    "        print(\"Estimation for adjusted R2: \" + str(self.adj_R2))\n",
    "        plt.plot(np.arange(len(self.y)), result[1], label='e residuals')\n",
    "        plt.legend()\n"
   ]
  },
  {
   "cell_type": "code",
   "execution_count": 13,
   "metadata": {},
   "outputs": [
    {
     "name": "stdout",
     "output_type": "stream",
     "text": [
      "beta: [[ 0.00892843]\n",
      " [-0.09408421]]\n",
      "t-stat: [[ 2.96309335]\n",
      " [-1.51166115]]\n",
      "Var_mu, Var_eps, Var_y: (2.0198101910285155e-05, 0.0027313576068973646, 0.002281797305806509)\n",
      "Var_e: 0.0022539217106887625\n"
     ]
    }
   ],
   "source": [
    "#task 2.1\n",
    "data = pd.read_csv('Data/ES50_mthlyReturns_April2021.csv')\n",
    "data = data.set_index('Date')\n",
    "\n",
    "r_df = data['AI.PA']\n",
    "T = len(r_df)\n",
    "\n",
    "y_df = r_df[1:]\n",
    "y = np.matrix(y_df)\n",
    "y = y.reshape(T-1, 1)  #(255,1)\n",
    "\n",
    "lag1 = r_df[:T-1]\n",
    "X = np.matrix(lag1)\n",
    "X = X.reshape(255, 1)\n",
    "\n",
    "estimation = OLS(y, X)\n",
    "estimation.runOLS()\n",
    "print(\"beta:\",estimation.beta)\n",
    "print(\"t-stat:\",estimation.t_stat)\n",
    "\n",
    "r = np.matrix(r_df)\n",
    "r = r.reshape(256,1)\n",
    "\n",
    "beta = estimation.beta\n",
    "mu = beta[0] + beta[1].item() * r\n",
    "mu = mu.reshape(256,1)\n",
    "eps = r - mu\n",
    "\n",
    "def var_calculate(mu, eps, r):\n",
    "    var_mu = np.var(mu, ddof=1)\n",
    "    var_eps = np.var(eps, ddof=1)\n",
    "    var_y = np.var(r, ddof=1)\n",
    "    return var_mu, var_eps, var_y\n",
    "\n",
    "print(\"Var_mu, Var_eps, Var_y:\", var_calculate(mu, eps, r))\n",
    "print(\"Var_e:\",estimation.var_e)"
   ]
  },
  {
   "cell_type": "code",
   "execution_count": 4,
   "metadata": {},
   "outputs": [],
   "source": [
    "#task 2.2\n",
    "def weakl_predictive(dataframe):\n",
    "    for name in list(dataframe):\n",
    "        r_df = dataframe[name]\n",
    "        T = len(r_df)\n",
    "\n",
    "        y_df = r_df[1:]\n",
    "        y = np.matrix(y_df)\n",
    "        y = y.reshape(255, 1)  #(255,1)\n",
    "\n",
    "        lag1 = r_df[:T-1]\n",
    "        X = np.matrix(lag1)\n",
    "        X = X.reshape(255, 1)\n",
    "\n",
    "        estimation2 = OLS(y, X)\n",
    "        estimation2.runOLS()\n",
    "        \n",
    "        if(abs(estimation2.t_stat[1]) > 2):\n",
    "            print(name, estimation2.t_stat, estimation2.adj_R2)"
   ]
  },
  {
   "cell_type": "code",
   "execution_count": 5,
   "metadata": {},
   "outputs": [
    {
     "name": "stdout",
     "output_type": "stream",
     "text": [
      "MUV2.DE [[ 0.59206373]\n",
      " [-2.54380933]] 0.021085079446328092\n",
      "VIV.PA [[-0.1933307 ]\n",
      " [ 2.32667493]] 0.017078897501169643\n",
      "None\n"
     ]
    }
   ],
   "source": [
    "print(weakl_predictive(data))"
   ]
  },
  {
   "cell_type": "code",
   "execution_count": 31,
   "metadata": {},
   "outputs": [
    {
     "name": "stdout",
     "output_type": "stream",
     "text": [
      "beta: [[0.0046385 ]\n",
      " [0.03977366]]\n",
      "t_stat: [[1.34315166]\n",
      " [0.63445677]]\n",
      "adj_R2: -0.0023577688842633115\n",
      "Var(e): 0.003020436555755646\n",
      "Var(mu): 4.786742509809104e-06\n",
      "Var(y): 0.0030133318157624794\n"
     ]
    },
    {
     "data": {
      "image/png": "[encoded data removed]",
      "text/plain": [
       "<Figure size 432x288 with 1 Axes>"
      ]
     },
     "metadata": {},
     "output_type": "display_data"
    }
   ],
   "source": [
    "#task 3\n",
    "r_market = []\n",
    "\n",
    "for i in range(len(data)):\n",
    "    returns = []\n",
    "    for name in list(data):\n",
    "        returns.append(data[name][i])\n",
    "    r_market.append(sum(returns) / 40) #creates equal weight portfolio\n",
    "\n",
    "T = len(r_market)\n",
    "\n",
    "y = np.matrix(r_market[1:])\n",
    "y = y.reshape(T-1, 1)  #(255,1)\n",
    "\n",
    "\n",
    "X = np.matrix(r_market[:T-1])\n",
    "X = X.reshape(255, 1)\n",
    "\n",
    "r_market = np.matrix(r_market)\n",
    "r_market = r_market.reshape(256,1)\n",
    "\n",
    "estimation3 = OLS(y, X)\n",
    "estimation3.runOLS()\n",
    "\n",
    "beta = estimation.beta\n",
    "mu = beta[0] + beta[1].item() * X\n",
    "mu = mu.reshape(255,1)\n",
    "eps = X - mu\n",
    "\n",
    "plt.plot(mu, label=\"$\\mu$\")\n",
    "plt.plot(eps, label=\"$\\epsilon$\")\n",
    "plt.legend()\n",
    "\n",
    "print(\"beta: \" + str(estimation3.beta))\n",
    "print(\"t_stat: \" + str(estimation3.t_stat))\n",
    "print(\"adj_R2: \" + str(estimation3.adj_R2))\n",
    "print(\"Var(e):\", estimation3.var_e)\n",
    "print(\"Var(mu):\", np.var(r_market[1:] - estimation3.e, ddof=1))\n",
    "print(\"Var(y):\", np.var(r_market[1:], ddof=1))\n"
   ]
  },
  {
   "cell_type": "code",
   "execution_count": null,
   "metadata": {},
   "outputs": [],
   "source": []
  }
 ],
 "metadata": {
  "kernelspec": {
   "display_name": "Python 3",
   "language": "python",
   "name": "python3"
  },
  "language_info": {
   "codemirror_mode": {
    "name": "ipython",
    "version": 3
   },
   "file_extension": ".py",
   "mimetype": "text/x-python",
   "name": "python",
   "nbconvert_exporter": "python",
   "pygments_lexer": "ipython3",
   "version": "3.8.5"
  }
 },
 "nbformat": 4,
 "nbformat_minor": 4
}
