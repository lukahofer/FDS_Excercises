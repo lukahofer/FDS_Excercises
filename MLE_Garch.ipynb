{
 "cells": [
  {
   "cell_type": "markdown",
   "metadata": {},
   "source": [
    "## E.2 MLE for Gaussian AR(1)-GARCH(1,1)\n",
    "\n",
    "Fit a Gaussian AR(1)-GARCH(1,1) to the 10-year government bond yield. Use the following procedure:\n",
    "\n",
    "1. Write a function, called \"garch11_variance(alpha_0, alpha_1, beta_1, sigma2_1, epsilon)\". It takes the parameters of the variance equation as an input as well as the residuals of the mean equation. The function returns the GARCH(1,1) implied variance. Note, the first variance is computed using \"epsilon[0]\" and the start value of the variance, i.e. \"sigma2_1\". \n",
    "\n",
    "2. Write a second function, called, \"Neg_loglikelihood_ar1_Garch11(parameters)\". It takes the model parameters as input and returns the negative joint log likelihood function. \n",
    "\n",
    "3. Use smart starting values for the optimization (from last week's Python for Financial Data Science material, see below). In addition, we use rather uninformative starting values for beta and sigma2_1, namely 0.01 and 1, respectively. **Praktomat: estimated parameters from local unconstrained optimization**\n",
    "\n",
    "4. You want to use a bounded optimizer to ensure the estimate imply: (i) stationary interest rates (stationary mean equation), (ii) positive unconditional interest rates, (iii) stationary variance of interest rates (stationary variance equation), (iv) positive unconditional variance of interest rate. **Type of optimizer: differential_evolution**. **Praktomat: estimated parameter global constrained optimization**\n",
    "\n",
    "5. Hand-in the mathematical algorithm and pseudo code that underlines your Python implementation. "
   ]
  },
  {
   "cell_type": "markdown",
   "metadata": {},
   "source": [
    "**Data**"
   ]
  },
  {
   "cell_type": "code",
   "execution_count": 5,
   "metadata": {},
   "outputs": [],
   "source": [
    "import pandas as pd\n",
    "import numpy as np\n",
    "import matplotlib.pylab as plt\n",
    "\n",
    "y_df = pd.read_excel(\"Data/GovBondYields.xls\", index_col = [0])\n",
    "#10-yr maturity rate\n",
    "y10_df = y_df.iloc[:,7]"
   ]
  },
  {
   "cell_type": "markdown",
   "metadata": {},
   "source": [
    "**LL**\n",
    "\n",
    "$$\n",
    "L_T(\\phi_0, \\phi_1, \\alpha_0, \\alpha_1, \\beta_1, \\sigma_1) = \\prod_{t=2}^T \\frac{1}{\\sqrt{ 2 \\pi (\\alpha_0 + \\alpha_1 \\epsilon^2_{t-1} + \\beta_1 \\sigma^2_{t-1})}} \\times \\exp\\left( -\\frac{(r_t - [\\phi_0 + \\phi_1 r_{t-1}])^2}{2 (\\alpha_0 + \\alpha_1 \\epsilon^2_{t-1}+ \\beta_1 \\sigma^2_{t-1})} \\right)\n",
    "$$\n",
    "\n",
    "with $\\sigma^2_t = \\alpha_0 + \\alpha_1 \\epsilon^2_{t-1} + \\beta_1 \\sigma^2_{t-1}, s.t. \\sigma^2_1 = \\text{known parameter}$\n",
    "\n",
    "Note:\n",
    " $$\n",
    " \\ln (L_T(.)) = \\sum_{t=2}^T -\\frac{1}{2} \\ln(2\\pi [\\alpha_0 + \\alpha_1 \\epsilon^2_{t-1}+ \\beta_1 \\sigma^2_{t-1}]) - \\frac{1}{2}  \\frac{(r_t - [\\phi_0 + \\phi_1 r_{t-1}])^2}{2 (\\alpha_0 + \\alpha_1 \\epsilon^2_{t-1}+ \\beta_1 \\sigma^2_{t-1})} \n",
    " $$"
   ]
  },
  {
   "cell_type": "markdown",
   "metadata": {},
   "source": [
    "**function GARCH_11_VARIANCE**"
   ]
  },
  {
   "cell_type": "markdown",
   "metadata": {},
   "source": [
    "def garch11_variance(alpha_0, alpha_1, beta_1, sigma2_1, epsilon):\n",
    "    var = np.zeros(len(epsilon))\n",
    "    var[0] = alpha_0 + alpha_1 * epsilon[0]**2 + beta_1 * sigma2_1\n",
    "    for i in range(1, )\n",
    "        var[1:] = alpha_0 + alpha_1 * epsilon[:-1]**2 + beta_1 * var[i-1]\n",
    "    return var"
   ]
  },
  {
   "cell_type": "code",
   "execution_count": 6,
   "metadata": {},
   "outputs": [],
   "source": [
    "def garch11_variance(alpha_0, alpha_1, beta_1, sigma2_1, epsilon):\n",
    "    var_arch = alpha_0 + alpha_1 * (epsilon[:-1])**2\n",
    "    var = [sigma2_1]\n",
    "    for i in range(0,len(var_arch)):\n",
    "        var.append(var_arch[i] + beta_1 * var[i])\n",
    "    var.pop(0)\n",
    "    return np.array(var)"
   ]
  },
  {
   "cell_type": "markdown",
   "metadata": {},
   "source": [
    "**-ln(L_T)**"
   ]
  },
  {
   "cell_type": "code",
   "execution_count": 7,
   "metadata": {},
   "outputs": [],
   "source": [
    "def Neg_loglikelihood_ar1_Garch11(parameters, r_t=y10_df):\n",
    "    phi_0, phi_1, alpha_0, alpha_1, beta_1, sigma2_1 = parameters\n",
    "    \n",
    "    means = phi_0 + phi_1 * r_t.iloc[:-1].values\n",
    "    eps = r_t.iloc[1:].values - means\n",
    "    var = garch11_variance(alpha_0, alpha_1, beta_1, sigma2_1, eps)\n",
    "\n",
    "    loglikelihood =  np.sum(-0.5 * np.log(2 * np.pi * var) - ((y10_df.iloc[2:].values - means[1:])**2) / (2 * var))\n",
    "    \n",
    "    return -loglikelihood"
   ]
  },
  {
   "cell_type": "markdown",
   "metadata": {},
   "source": [
    "**Start Values from 2pass Estimation**"
   ]
  },
  {
   "cell_type": "code",
   "execution_count": 8,
   "metadata": {},
   "outputs": [],
   "source": [
    "#start values for AR(1)-GARCH(1,1) parameters from last week's Python for Financial Data Science material\n",
    "phi0_start = 0.0204\n",
    "phi1_start = 0.9962\n",
    "alpha0_start = 0.0004\n",
    "alpha1_start = 0.3157\n",
    "#uninformative start values for GARCH part\n",
    "beta1_start = 0.01\n",
    "sigma2_1_start = 1\n",
    "\n",
    "ar1_garch11_params_start = [phi0_start, phi1_start, alpha0_start, alpha1_start, beta1_start, sigma2_1_start]"
   ]
  },
  {
   "cell_type": "markdown",
   "metadata": {},
   "source": [
    "**Unconstrained Optimization: Nelder-Mead Optimization**"
   ]
  },
  {
   "cell_type": "code",
   "execution_count": 9,
   "metadata": {},
   "outputs": [
    {
     "name": "stderr",
     "output_type": "stream",
     "text": [
      "<ipython-input-7-3ea048519d69>:8: RuntimeWarning: invalid value encountered in log\n",
      "  loglikelihood =  np.sum(-0.5 * np.log(2 * np.pi * var) - ((y10_df.iloc[2:].values - means[1:])**2) / (2 * var))\n"
     ]
    },
    {
     "name": "stdout",
     "output_type": "stream",
     "text": [
      "Optimization terminated successfully.\n",
      "         Current function value: 166.840529\n",
      "         Iterations: 651\n",
      "         Function evaluations: 1042\n"
     ]
    }
   ],
   "source": [
    "import scipy.optimize as sco\n",
    "\n",
    "ar1_garch11_params_optimal = sco.minimize(Neg_loglikelihood_ar1_Garch11, ar1_garch11_params_start, args=(y10_df),\n",
    "                                         method='Nelder-Mead', options={'disp': True})"
   ]
  },
  {
   "cell_type": "markdown",
   "metadata": {},
   "source": [
    "**Output:**"
   ]
  },
  {
   "cell_type": "code",
   "execution_count": 10,
   "metadata": {},
   "outputs": [
    {
     "data": {
      "text/plain": [
       "array([-9.40566161e-02,  1.02268374e+00,  6.73421893e-03,  4.44696040e+00,\n",
       "        3.77398370e-03, -1.90019306e+01])"
      ]
     },
     "execution_count": 10,
     "metadata": {},
     "output_type": "execute_result"
    }
   ],
   "source": [
    "#unconstrained\n",
    "#phi_0, phi_1, alpha_0, alpha_1, beta_1, sigma2_1\n",
    "ar1_garch11_params_optimal.x"
   ]
  },
  {
   "cell_type": "markdown",
   "metadata": {},
   "source": [
    "**Stationary GARCH(1,1)** Stationary Conditions and Positivity Restrictions for the Variance:"
   ]
  },
  {
   "cell_type": "markdown",
   "metadata": {},
   "source": [
    "Stationary mean equation:\n",
    "$$\n",
    "|\\phi_1| < 1\n",
    "$$\n",
    "\n",
    "Stationary variance equation:\n",
    "$$\n",
    "\\alpha_1 + \\beta_1 < 1\n",
    "$$\n",
    "\n",
    "Positive unconditional variance forecast:\n",
    "$$\n",
    "\\alpha_0 > 0 \\qquad \\text{and} \\qquad \\alpha_1, \\beta_1, \\sigma^2_{1} \\in \\mathcal{R}_+\n",
    "$$\n",
    "\n",
    "Positive unconditional interest rates:\n",
    "$$\n",
    "\\phi_0 > 0, \\qquad \\phi_1 > 0\n",
    "$$\n"
   ]
  },
  {
   "cell_type": "markdown",
   "metadata": {},
   "source": [
    "**Bounded Optimization:** \n",
    "\n",
    "Hints:\n",
    "\n",
    "1. Please specify the bounds for all the parameters.\n",
    "\n",
    "2. For inequality constraints please following the doc from scipy in the following link:\n",
    "https://docs.scipy.org/doc/scipy/reference/generated/scipy.optimize.differential_evolution.html. In addition, for $ \\alpha_1 + \\beta_1 < 1$ we specify it as $ 0<\\alpha_1 + \\beta_1 < 1$. \n",
    "\n",
    "3. Please use seed=1"
   ]
  },
  {
   "cell_type": "code",
   "execution_count": 11,
   "metadata": {},
   "outputs": [],
   "source": [
    "bounds = ((-5,5),\n",
    "          (-5,5),\n",
    "          (-5,5),\n",
    "          (-5,5),\n",
    "          (-5,5),\n",
    "          (-5,5))\n",
    "#phi_0, phi_1, alpha_0, alpha_1, beta_1, sigma2_1\n",
    "\n",
    "def stat_mean_equ(parameters):\n",
    "    return abs(parameters[1])\n",
    "\n",
    "def stat_var_equ(parameters):\n",
    "    return parameters[3] + parameters[4]\n",
    "\n",
    "def pos_uncon_var_forecast(parameters):\n",
    "    return parameters[2], parameters[3], parameters[4], parameters[5]\n",
    "\n",
    "def pos_uncon_interst_rates(parameters):\n",
    "    return parameters[0], parameters[1]\n",
    "    \n",
    "\n",
    "\n",
    "nlc1 = sco.NonlinearConstraint(stat_mean_equ, 0, 1)\n",
    "nlc2 = sco.NonlinearConstraint(stat_var_equ, 0, 1)\n",
    "nlc3 = sco.NonlinearConstraint(pos_uncon_var_forecast, 0, np.inf)\n",
    "nlc4 = sco.NonlinearConstraint(pos_uncon_interst_rates, 0, np.inf)"
   ]
  },
  {
   "cell_type": "code",
   "execution_count": 12,
   "metadata": {
    "scrolled": true
   },
   "outputs": [
    {
     "name": "stderr",
     "output_type": "stream",
     "text": [
      "C:\\Users\\Luca\\anaconda3\\lib\\site-packages\\scipy\\optimize\\_hessian_update_strategy.py:182: UserWarning: delta_grad == 0.0. Check if the approximated function is linear. If the function is linear better results can be obtained by defining the Hessian as zero instead of using quasi-Newton approximations.\n",
      "  warn('delta_grad == 0.0. Check if the approximated '\n"
     ]
    }
   ],
   "source": [
    "constraint_est = sco.differential_evolution(Neg_loglikelihood_ar1_Garch11, bounds,args=(y10_df, ), seed=1,\n",
    "                                            constraints=(nlc1, nlc2, nlc3, nlc4))"
   ]
  },
  {
   "cell_type": "code",
   "execution_count": 13,
   "metadata": {},
   "outputs": [
    {
     "data": {
      "text/plain": [
       "array([4.95223065e-02, 9.91773656e-01, 2.26752057e-04, 1.44879665e-01,\n",
       "       8.55120334e-01, 2.80553420e-03])"
      ]
     },
     "execution_count": 13,
     "metadata": {},
     "output_type": "execute_result"
    }
   ],
   "source": [
    "#constrained\n",
    "#phi_0, phi_1, alpha_0, alpha_1, beta_1, sigma2_1\n",
    "constraint_est.x"
   ]
  }
 ],
 "metadata": {
  "kernelspec": {
   "display_name": "Python 3",
   "language": "python",
   "name": "python3"
  },
  "language_info": {
   "codemirror_mode": {
    "name": "ipython",
    "version": 3
   },
   "file_extension": ".py",
   "mimetype": "text/x-python",
   "name": "python",
   "nbconvert_exporter": "python",
   "pygments_lexer": "ipython3",
   "version": "3.8.5"
  }
 },
 "nbformat": 4,
 "nbformat_minor": 4
}
